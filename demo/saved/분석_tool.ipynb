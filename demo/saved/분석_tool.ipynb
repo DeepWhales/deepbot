{
 "cells": [
  {
   "cell_type": "code",
   "execution_count": 1,
   "metadata": {},
   "outputs": [],
   "source": [
    "import os\n",
    "import pandas as pd"
   ]
  },
  {
   "cell_type": "code",
   "execution_count": 2,
   "metadata": {},
   "outputs": [],
   "source": [
    "path_dir = 'D:\\work\\project\\deepbot\\demo\\saved'\n",
    "file_list = os.listdir(path_dir)"
   ]
  },
  {
   "cell_type": "code",
   "execution_count": 3,
   "metadata": {},
   "outputs": [
    {
     "data": {
      "text/plain": [
       "['.ipynb_checkpoints',\n",
       " '2021_0201_1047.pkl',\n",
       " '2021_0201_1048.pkl',\n",
       " '2021_0201_1049.pkl',\n",
       " '2021_0201_1050.pkl',\n",
       " '2021_0201_1051.pkl',\n",
       " '2021_0201_1052.pkl',\n",
       " '2021_0201_1053.pkl',\n",
       " '2021_0201_1054.pkl',\n",
       " '2021_0201_1055.pkl',\n",
       " '2021_0201_1056.pkl',\n",
       " '2021_0201_1057.pkl',\n",
       " '2021_0201_1058.pkl',\n",
       " '2021_0201_1059.pkl',\n",
       " '2021_0201_1100.pkl',\n",
       " '2021_0201_1101.pkl',\n",
       " '2021_0201_1102.pkl',\n",
       " '2021_0201_1103.pkl',\n",
       " '2021_0201_1104.pkl',\n",
       " '2021_0201_1105.pkl',\n",
       " '2021_0201_1106.pkl',\n",
       " '2021_0201_1107.pkl',\n",
       " '2021_0201_1108.pkl',\n",
       " '2021_0201_1109.pkl',\n",
       " '2021_0201_1110.pkl',\n",
       " '2021_0201_1111.pkl',\n",
       " '2021_0201_1703.pkl',\n",
       " 'DistanceClassifier',\n",
       " 'DistanceEstimator',\n",
       " 'EntityRecognizer',\n",
       " 'FallbackDetector',\n",
       " 'GensimEmbedder',\n",
       " '분석_tool.ipynb',\n",
       " '의도분류1차']"
      ]
     },
     "execution_count": 3,
     "metadata": {},
     "output_type": "execute_result"
    }
   ],
   "source": [
    "file_list"
   ]
  },
  {
   "cell_type": "code",
   "execution_count": 4,
   "metadata": {},
   "outputs": [
    {
     "name": "stdout",
     "output_type": "stream",
     "text": [
      ".pkl\n",
      ".pkl\n",
      ".pkl\n",
      ".pkl\n",
      ".pkl\n",
      ".pkl\n",
      ".pkl\n",
      ".pkl\n",
      ".pkl\n",
      ".pkl\n",
      ".pkl\n",
      ".pkl\n",
      ".pkl\n",
      ".pkl\n",
      ".pkl\n",
      ".pkl\n",
      ".pkl\n",
      ".pkl\n",
      ".pkl\n",
      ".pkl\n",
      ".pkl\n",
      ".pkl\n",
      ".pkl\n",
      ".pkl\n",
      ".pkl\n",
      ".pkl\n"
     ]
    }
   ],
   "source": [
    "pickle_file_list = []\n",
    "\n",
    "for name in file_list:\n",
    "    file_type = name[-4:]\n",
    "    if '.pkl'==file_type:\n",
    "        pickle_file_list.append(name)\n",
    "        print(file_type)\n",
    "    "
   ]
  },
  {
   "cell_type": "code",
   "execution_count": 5,
   "metadata": {},
   "outputs": [
    {
     "data": {
      "text/plain": [
       "['2021_0201_1047.pkl',\n",
       " '2021_0201_1048.pkl',\n",
       " '2021_0201_1049.pkl',\n",
       " '2021_0201_1050.pkl',\n",
       " '2021_0201_1051.pkl',\n",
       " '2021_0201_1052.pkl',\n",
       " '2021_0201_1053.pkl',\n",
       " '2021_0201_1054.pkl',\n",
       " '2021_0201_1055.pkl',\n",
       " '2021_0201_1056.pkl',\n",
       " '2021_0201_1057.pkl',\n",
       " '2021_0201_1058.pkl',\n",
       " '2021_0201_1059.pkl',\n",
       " '2021_0201_1100.pkl',\n",
       " '2021_0201_1101.pkl',\n",
       " '2021_0201_1102.pkl',\n",
       " '2021_0201_1103.pkl',\n",
       " '2021_0201_1104.pkl',\n",
       " '2021_0201_1105.pkl',\n",
       " '2021_0201_1106.pkl',\n",
       " '2021_0201_1107.pkl',\n",
       " '2021_0201_1108.pkl',\n",
       " '2021_0201_1109.pkl',\n",
       " '2021_0201_1110.pkl',\n",
       " '2021_0201_1111.pkl',\n",
       " '2021_0201_1703.pkl']"
      ]
     },
     "execution_count": 5,
     "metadata": {},
     "output_type": "execute_result"
    }
   ],
   "source": [
    "pickle_file_list"
   ]
  },
  {
   "cell_type": "code",
   "execution_count": 7,
   "metadata": {},
   "outputs": [],
   "source": [
    "# df_feedback=pd.read_pickle('2021_0127_1428.pkl')"
   ]
  },
  {
   "cell_type": "code",
   "execution_count": 8,
   "metadata": {},
   "outputs": [
    {
     "ename": "NameError",
     "evalue": "name 'df_feedback' is not defined",
     "output_type": "error",
     "traceback": [
      "\u001b[1;31m---------------------------------------------------------------------------\u001b[0m",
      "\u001b[1;31mNameError\u001b[0m                                 Traceback (most recent call last)",
      "\u001b[1;32m<ipython-input-8-e84d432d9908>\u001b[0m in \u001b[0;36m<module>\u001b[1;34m\u001b[0m\n\u001b[1;32m----> 1\u001b[1;33m \u001b[0mdf_feedback\u001b[0m\u001b[1;33m\u001b[0m\u001b[1;33m\u001b[0m\u001b[0m\n\u001b[0m",
      "\u001b[1;31mNameError\u001b[0m: name 'df_feedback' is not defined"
     ]
    }
   ],
   "source": [
    "# df_feedback"
   ]
  },
  {
   "cell_type": "code",
   "execution_count": 64,
   "metadata": {},
   "outputs": [
    {
     "name": "stdout",
     "output_type": "stream",
     "text": [
      "['하이', '하이', '하이', '하이', '하이', '하이', '하이', '하이', '하이', '하이', '하이', '하이', '하이', '하이', '하이']\n",
      "['돈돈돈', '이것이 무엇인지', '햐햐햐햐', '어제 머하셨어요', '잘 되네요', '머지jQuery11110362181934880758_1611725251380', '머지', '머지', '머야', '너 머야', '야야야', '꺼져', '거리 꺼져', '슈발', '꺼지라고']\n"
     ]
    }
   ],
   "source": [
    "print(df_feedback['id'])\n",
    "print(df_feedback['utterance'])"
   ]
  },
  {
   "cell_type": "code",
   "execution_count": null,
   "metadata": {},
   "outputs": [],
   "source": []
  },
  {
   "cell_type": "code",
   "execution_count": null,
   "metadata": {},
   "outputs": [],
   "source": []
  }
 ],
 "metadata": {
  "kernelspec": {
   "display_name": "chatbot_aihub",
   "language": "python",
   "name": "myvenv"
  },
  "language_info": {
   "codemirror_mode": {
    "name": "ipython",
    "version": 3
   },
   "file_extension": ".py",
   "mimetype": "text/x-python",
   "name": "python",
   "nbconvert_exporter": "python",
   "pygments_lexer": "ipython3",
   "version": "3.7.9"
  }
 },
 "nbformat": 4,
 "nbformat_minor": 4
}
